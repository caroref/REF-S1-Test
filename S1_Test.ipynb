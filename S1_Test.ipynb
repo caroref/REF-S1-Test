{
  "nbformat": 4,
  "nbformat_minor": 0,
  "metadata": {
    "colab": {
      "name": "S1 Test.ipynb",
      "version": "0.3.2",
      "provenance": [],
      "collapsed_sections": [],
      "include_colab_link": true
    },
    "kernelspec": {
      "name": "python3",
      "display_name": "Python 3"
    },
    "accelerator": "GPU"
  },
  "cells": [
    {
      "cell_type": "markdown",
      "metadata": {
        "id": "view-in-github",
        "colab_type": "text"
      },
      "source": [
        "<a href=\"https://colab.research.google.com/github/caroref/REF-S1-Test/blob/master/S1_Test.ipynb\" target=\"_parent\"><img src=\"https://colab.research.google.com/assets/colab-badge.svg\" alt=\"Open In Colab\"/></a>"
      ]
    },
    {
      "cell_type": "code",
      "metadata": {
        "id": "A2YouEqhz_JR",
        "colab_type": "code",
        "outputId": "7a4df472-18d8-4a63-9ed8-bb0ea17b617b",
        "colab": {
          "base_uri": "https://localhost:8080/",
          "height": 70
        }
      },
      "source": [
        "from __future__ import absolute_import, division, print_function, unicode_literals\n",
        "\n",
        "import os\n",
        "import random\n",
        "import shutil\n",
        "\n",
        "import tensorflow as tf\n",
        "import tensorflow_hub as hub\n",
        "print(\"TensorFlow version is \", tf.__version__)\n",
        "\n",
        "from tensorflow import keras\n",
        "from tensorflow.keras import layers\n",
        "\n",
        "import numpy as np\n",
        "\n",
        "import matplotlib.pyplot as plt\n",
        "import matplotlib.image as mpimg"
      ],
      "execution_count": 1,
      "outputs": [
        {
          "output_type": "stream",
          "text": [
            "WARNING: Logging before flag parsing goes to stderr.\n",
            "W0528 18:54:34.424135 140067251087232 __init__.py:56] Some hub symbols are not available because TensorFlow version is less than 1.14\n"
          ],
          "name": "stderr"
        },
        {
          "output_type": "stream",
          "text": [
            "TensorFlow version is  1.13.1\n"
          ],
          "name": "stdout"
        }
      ]
    },
    {
      "cell_type": "code",
      "metadata": {
        "id": "0MY-mhUE1VbV",
        "colab_type": "code",
        "colab": {}
      },
      "source": [
        "base_dir = 'drive/Colab/EV4/Base/'\n",
        "like = os.path.join(base_dir, 'Like')\n",
        "dislike = os.path.join(base_dir, 'Dislike')\n",
        "\n",
        "# subdirectories for train/test/valid splits\n",
        "trn_dir = 'drive/Colab/EV4/S1/Train/'\n",
        "val_dir = 'drive/Colab/EV4/S1/Valid/'\n",
        "tst_dir = 'drive/Colab/EV4/S1/Test/'\n",
        "\n",
        "trn_like = os.path.join(trn_dir, 'Like')\n",
        "val_like = os.path.join(val_dir, 'Like')\n",
        "tst_like = os.path.join(tst_dir, 'Like')\n",
        "\n",
        "trn_disl = os.path.join(trn_dir, 'Dislike')\n",
        "val_disl = os.path.join(val_dir, 'Dislike')\n",
        "tst_disl = os.path.join(tst_dir, 'Dislike')"
      ],
      "execution_count": 0,
      "outputs": []
    },
    {
      "cell_type": "code",
      "metadata": {
        "id": "KfSIWF1q0Csv",
        "colab_type": "code",
        "outputId": "75d45339-eb5b-41f1-efd4-0c49be535d74",
        "colab": {
          "base_uri": "https://localhost:8080/",
          "height": 232
        }
      },
      "source": [
        "# Allow Colab to access drive\n",
        "!apt-get install -y -qq software-properties-common python-software-properties module-init-tools\n",
        "!add-apt-repository -y ppa:alessandro-strada/ppa 2>&1 > /dev/null\n",
        "!apt-get update -qq 2>&1 > /dev/null\n",
        "!apt-get -y install -qq google-drive-ocamlfuse fuse\n",
        "from google.colab import auth\n",
        "auth.authenticate_user()\n",
        "from oauth2client.client import GoogleCredentials\n",
        "creds = GoogleCredentials.get_application_default()\n",
        "import getpass\n",
        "!google-drive-ocamlfuse -headless -id={creds.client_id} -secret={creds.client_secret} < /dev/null 2>&1 | grep URL\n",
        "vcode = getpass.getpass()\n",
        "!echo {vcode} | google-drive-ocamlfuse -headless -id={creds.client_id} -secret={creds.client_secret}\n",
        "\n",
        "#linking Colab to use drive as if local\n",
        "!mkdir -p drive\n",
        "!google-drive-ocamlfuse drive\n"
      ],
      "execution_count": 3,
      "outputs": [
        {
          "output_type": "stream",
          "text": [
            "E: Package 'python-software-properties' has no installation candidate\n",
            "Selecting previously unselected package google-drive-ocamlfuse.\n",
            "(Reading database ... 130911 files and directories currently installed.)\n",
            "Preparing to unpack .../google-drive-ocamlfuse_0.7.3-0ubuntu3~ubuntu18.04.1_amd64.deb ...\n",
            "Unpacking google-drive-ocamlfuse (0.7.3-0ubuntu3~ubuntu18.04.1) ...\n",
            "Setting up google-drive-ocamlfuse (0.7.3-0ubuntu3~ubuntu18.04.1) ...\n",
            "Processing triggers for man-db (2.8.3-2ubuntu0.1) ...\n",
            "Please, open the following URL in a web browser: https://accounts.google.com/o/oauth2/auth?client_id=32555940559.apps.googleusercontent.com&redirect_uri=urn%3Aietf%3Awg%3Aoauth%3A2.0%3Aoob&scope=https%3A%2F%2Fwww.googleapis.com%2Fauth%2Fdrive&response_type=code&access_type=offline&approval_prompt=force\n",
            "··········\n",
            "Please, open the following URL in a web browser: https://accounts.google.com/o/oauth2/auth?client_id=32555940559.apps.googleusercontent.com&redirect_uri=urn%3Aietf%3Awg%3Aoauth%3A2.0%3Aoob&scope=https%3A%2F%2Fwww.googleapis.com%2Fauth%2Fdrive&response_type=code&access_type=offline&approval_prompt=force\n",
            "Please enter the verification code: Access token retrieved correctly.\n"
          ],
          "name": "stdout"
        }
      ]
    },
    {
      "cell_type": "code",
      "metadata": {
        "id": "HMY205oWzug7",
        "colab_type": "code",
        "colab": {}
      },
      "source": [
        "# keras library import  for Saving and loading model and weights\n",
        "from tensorflow.keras.models import model_from_json\n",
        "from tensorflow.keras.models import load_model"
      ],
      "execution_count": 0,
      "outputs": []
    },
    {
      "cell_type": "code",
      "metadata": {
        "id": "pVGVQqgmzxla",
        "colab_type": "code",
        "outputId": "d8fe584b-eb64-4d2b-ca18-dbd090d79337",
        "colab": {
          "base_uri": "https://localhost:8080/",
          "height": 161
        }
      },
      "source": [
        "# load json and create model\n",
        "json_file = open('drive/Colab_NB/smodel/s1_model_num.json', 'r')\n",
        "\n",
        "loaded_model_json = json_file.read()\n",
        "json_file.close()\n",
        "loaded_model = model_from_json(loaded_model_json)\n",
        "\n",
        "# load weights into new model\n",
        "loaded_model.load_weights(\"drive/Colab_NB/smodel/s1_model_num.h5\")\n",
        "print(\"Loaded model from drive\")"
      ],
      "execution_count": 5,
      "outputs": [
        {
          "output_type": "stream",
          "text": [
            "WARNING:tensorflow:From /usr/local/lib/python3.6/dist-packages/tensorflow/python/ops/resource_variable_ops.py:435: colocate_with (from tensorflow.python.framework.ops) is deprecated and will be removed in a future version.\n",
            "Instructions for updating:\n",
            "Colocations handled automatically by placer.\n"
          ],
          "name": "stdout"
        },
        {
          "output_type": "stream",
          "text": [
            "W0528 18:56:30.576767 140067251087232 deprecation.py:323] From /usr/local/lib/python3.6/dist-packages/tensorflow/python/ops/resource_variable_ops.py:435: colocate_with (from tensorflow.python.framework.ops) is deprecated and will be removed in a future version.\n",
            "Instructions for updating:\n",
            "Colocations handled automatically by placer.\n"
          ],
          "name": "stderr"
        },
        {
          "output_type": "stream",
          "text": [
            "Loaded model from drive\n"
          ],
          "name": "stdout"
        }
      ]
    },
    {
      "cell_type": "code",
      "metadata": {
        "id": "GTeKpKqLz0_I",
        "colab_type": "code",
        "outputId": "f4de1633-110a-45f5-a73c-cd799e2a3a3c",
        "colab": {
          "base_uri": "https://localhost:8080/",
          "height": 52
        }
      },
      "source": [
        "loaded_model.save('drive/Colab_NB/smodel/s1_model_num.hdf5')\n",
        "loaded_model=load_model('drive/Colab_NB/smodel/s1_model_num.hdf5')"
      ],
      "execution_count": 6,
      "outputs": [
        {
          "output_type": "stream",
          "text": [
            "WARNING:tensorflow:No training configuration found in save file: the model was *not* compiled. Compile it manually.\n"
          ],
          "name": "stdout"
        },
        {
          "output_type": "stream",
          "text": [
            "W0528 18:57:12.464934 140067251087232 saving.py:243] No training configuration found in save file: the model was *not* compiled. Compile it manually.\n"
          ],
          "name": "stderr"
        }
      ]
    },
    {
      "cell_type": "code",
      "metadata": {
        "id": "SMbY2IHWz2BO",
        "colab_type": "code",
        "outputId": "23ee80be-aa9d-4e7c-f8d9-8537bfa82bc6",
        "colab": {
          "base_uri": "https://localhost:8080/",
          "height": 248
        }
      },
      "source": [
        "#model was not compiled when saved so need to compile?\n",
        "\n",
        "loaded_model.compile(optimizer=tf.keras.optimizers.RMSprop(lr=0.0001),\n",
        "              loss='binary_crossentropy',\n",
        "              metrics=['accuracy'])\n",
        "\n",
        "loaded_model.summary()"
      ],
      "execution_count": 7,
      "outputs": [
        {
          "output_type": "stream",
          "text": [
            "_________________________________________________________________\n",
            "Layer (type)                 Output Shape              Param #   \n",
            "=================================================================\n",
            "inception_v3 (Model)         (None, 18, 18, 2048)      21802784  \n",
            "_________________________________________________________________\n",
            "global_average_pooling2d (Gl (None, 2048)              0         \n",
            "_________________________________________________________________\n",
            "dense (Dense)                (None, 1)                 2049      \n",
            "=================================================================\n",
            "Total params: 21,804,833\n",
            "Trainable params: 21,770,401\n",
            "Non-trainable params: 34,432\n",
            "_________________________________________________________________\n"
          ],
          "name": "stdout"
        }
      ]
    },
    {
      "cell_type": "code",
      "metadata": {
        "id": "oeYGdiPYz3AF",
        "colab_type": "code",
        "outputId": "8f3712ac-e929-49d6-b120-bc58403523ed",
        "colab": {
          "base_uri": "https://localhost:8080/",
          "height": 35
        }
      },
      "source": [
        "image_size = 640\n",
        "batch_size = 1\n",
        "\n",
        "test_datagen = keras.preprocessing.image.ImageDataGenerator(\n",
        "                rescale=1./255)\n",
        "\n",
        "test_generator = test_datagen.flow_from_directory(\n",
        "                tst_dir,\n",
        "                target_size=(image_size, image_size),\n",
        "                batch_size= batch_size,\n",
        "                class_mode='binary')\n",
        "\n",
        "filenames = test_generator.filenames\n",
        "nb_samples = len(filenames)\n"
      ],
      "execution_count": 8,
      "outputs": [
        {
          "output_type": "stream",
          "text": [
            "Found 100 images belonging to 2 classes.\n"
          ],
          "name": "stdout"
        }
      ]
    },
    {
      "cell_type": "code",
      "metadata": {
        "id": "KRI3OeD5z4CS",
        "colab_type": "code",
        "outputId": "315b21d6-03ce-4a99-c510-aa2f9ae6dfcf",
        "colab": {
          "base_uri": "https://localhost:8080/",
          "height": 35
        }
      },
      "source": [
        "# Test accuracy 71%\n",
        " _, accuracy = loaded_model.evaluate_generator(generator=test_generator)\n",
        " print('Accuracy on test set: {}%'.format(round(accuracy, 3)*100))"
      ],
      "execution_count": 9,
      "outputs": [
        {
          "output_type": "stream",
          "text": [
            "Accuracy on test set: 70.99999785423279%\n"
          ],
          "name": "stdout"
        }
      ]
    },
    {
      "cell_type": "code",
      "metadata": {
        "id": "qKvj8IwFz5JV",
        "colab_type": "code",
        "colab": {}
      },
      "source": [
        "true_classes = test_generator.classes\n",
        "class_labels = list(test_generator.class_indices.keys())"
      ],
      "execution_count": 0,
      "outputs": []
    },
    {
      "cell_type": "code",
      "metadata": {
        "id": "HhzbLFTC6s9Y",
        "colab_type": "code",
        "colab": {}
      },
      "source": [
        "test_steps=test_generator.n // batch_size\n",
        "test_generator.reset()\n",
        "predict = loaded_model.predict_generator(test_generator, steps = test_steps)\n",
        "predicted_classes = np.where(predict>0.5, 1, 0)"
      ],
      "execution_count": 0,
      "outputs": []
    },
    {
      "cell_type": "code",
      "metadata": {
        "id": "Ezl2rBCTz6it",
        "colab_type": "code",
        "colab": {}
      },
      "source": [
        "import sklearn\n",
        "from sklearn.metrics import confusion_matrix\n",
        "import seaborn as sns"
      ],
      "execution_count": 0,
      "outputs": []
    },
    {
      "cell_type": "code",
      "metadata": {
        "id": "N97CBvESz7UQ",
        "colab_type": "code",
        "outputId": "e6f2b497-64ff-485a-b0e8-95473e63ab82",
        "colab": {
          "base_uri": "https://localhost:8080/",
          "height": 620
        }
      },
      "source": [
        "print('Confusion Matrix')\n",
        "cm = sklearn.metrics.confusion_matrix(true_classes, predicted_classes)\n",
        "print(cm)\n",
        "\n",
        "#plot\n",
        "fig = plt.figure()\n",
        "ax = fig.add_subplot(111)\n",
        "cax = ax.matshow(cm, cmap=plt.cm.Blues)\n",
        "plt.title('Confusion matrix of the classifier')\n",
        "fig.colorbar(cax)\n",
        "ax.set_xticklabels([''] + class_labels)\n",
        "ax.set_yticklabels([''] + class_labels)\n",
        "plt.xlabel('Predicted')\n",
        "plt.ylabel('True')\n",
        "plt.show()\n",
        "\n",
        "#using seaborn\n",
        "ax= plt.subplot()\n",
        "sns.heatmap(cm, annot=True, ax = ax); #annot=True to annotate cells\n",
        "\n",
        "# labels, title and ticks\n",
        "ax.set_xlabel('Predicted labels');\n",
        "ax.set_ylabel('True labels'); \n",
        "ax.set_title('Confusion Matrix'); \n",
        "ax.xaxis.set_ticklabels(class_labels + class_labels); \n",
        "ax.yaxis.set_ticklabels(class_labels + class_labels);\n"
      ],
      "execution_count": 13,
      "outputs": [
        {
          "output_type": "stream",
          "text": [
            "Confusion Matrix\n",
            "[[28 22]\n",
            " [19 31]]\n"
          ],
          "name": "stdout"
        },
        {
          "output_type": "display_data",
          "data": {
            "image/png": "[encoded data removed]",
            "text/plain": [
              "<Figure size 432x288 with 2 Axes>"
            ]
          },
          "metadata": {
            "tags": []
          }
        },
        {
          "output_type": "display_data",
          "data": {
            "image/png": "[encoded data removed]",
            "text/plain": [
              "<Figure size 432x288 with 2 Axes>"
            ]
          },
          "metadata": {
            "tags": []
          }
        }
      ]
    },
    {
      "cell_type": "code",
      "metadata": {
        "id": "8-emBVfAz8vn",
        "colab_type": "code",
        "outputId": "84fc09df-0fae-4074-82d7-f88779202493",
        "colab": {
          "base_uri": "https://localhost:8080/",
          "height": 195
        }
      },
      "source": [
        "print('Classification Report') \n",
        "print(sklearn.metrics.classification_report(true_classes, predicted_classes, target_names=class_labels))"
      ],
      "execution_count": 14,
      "outputs": [
        {
          "output_type": "stream",
          "text": [
            "Classification Report\n",
            "              precision    recall  f1-score   support\n",
            "\n",
            "     Dislike       0.60      0.56      0.58        50\n",
            "        Like       0.58      0.62      0.60        50\n",
            "\n",
            "    accuracy                           0.59       100\n",
            "   macro avg       0.59      0.59      0.59       100\n",
            "weighted avg       0.59      0.59      0.59       100\n",
            "\n"
          ],
          "name": "stdout"
        }
      ]
    },
    {
      "cell_type": "code",
      "metadata": {
        "id": "8Oi1Lsst4hvE",
        "colab_type": "code",
        "colab": {}
      },
      "source": [
        "#make both true_classes and predicted_classes into lists\n",
        "t_classes = list(true_classes)\n",
        "\n",
        "p_classes = []\n",
        "for sublist in predicted_classes:\n",
        "    for item in sublist:\n",
        "        p_classes.append(item)"
      ],
      "execution_count": 0,
      "outputs": []
    },
    {
      "cell_type": "code",
      "metadata": {
        "id": "TpuQvqTE6I-y",
        "colab_type": "code",
        "colab": {
          "base_uri": "https://localhost:8080/",
          "height": 90
        },
        "outputId": "ca20cdfa-e84d-4f30-dd4a-519d89509c2d"
      },
      "source": [
        "print(flat_list)\n",
        "print(t_classes)\n",
        "print(filenames)"
      ],
      "execution_count": 35,
      "outputs": [
        {
          "output_type": "stream",
          "text": [
            "[0, 0, 1, 1, 0, 1, 0, 1, 1, 0, 1, 0, 1, 0, 1, 0, 0, 0, 1, 0, 1, 0, 0, 0, 1, 0, 1, 0, 0, 0, 1, 0, 0, 0, 1, 1, 0, 0, 1, 1, 0, 0, 1, 1, 0, 0, 1, 1, 0, 1, 1, 0, 1, 1, 1, 1, 1, 0, 1, 1, 0, 0, 1, 0, 0, 1, 1, 1, 1, 1, 1, 1, 0, 0, 1, 1, 0, 1, 0, 1, 0, 1, 1, 1, 0, 0, 1, 0, 1, 1, 1, 1, 0, 0, 0, 1, 1, 1, 0, 0]\n",
            "[0, 0, 0, 0, 0, 0, 0, 0, 0, 0, 0, 0, 0, 0, 0, 0, 0, 0, 0, 0, 0, 0, 0, 0, 0, 0, 0, 0, 0, 0, 0, 0, 0, 0, 0, 0, 0, 0, 0, 0, 0, 0, 0, 0, 0, 0, 0, 0, 0, 0, 1, 1, 1, 1, 1, 1, 1, 1, 1, 1, 1, 1, 1, 1, 1, 1, 1, 1, 1, 1, 1, 1, 1, 1, 1, 1, 1, 1, 1, 1, 1, 1, 1, 1, 1, 1, 1, 1, 1, 1, 1, 1, 1, 1, 1, 1, 1, 1, 1, 1]\n",
            "['Dislike/Dislike_ (10).jpg', 'Dislike/Dislike_ (102).jpg', 'Dislike/Dislike_ (104).jpg', 'Dislike/Dislike_ (108).jpg', 'Dislike/Dislike_ (11).jpg', 'Dislike/Dislike_ (112).jpg', 'Dislike/Dislike_ (128).jpg', 'Dislike/Dislike_ (135).jpg', 'Dislike/Dislike_ (137).jpg', 'Dislike/Dislike_ (149).jpg', 'Dislike/Dislike_ (150).jpg', 'Dislike/Dislike_ (157).jpg', 'Dislike/Dislike_ (168).jpg', 'Dislike/Dislike_ (194).jpg', 'Dislike/Dislike_ (2).jpg', 'Dislike/Dislike_ (20).jpg', 'Dislike/Dislike_ (208).jpg', 'Dislike/Dislike_ (226).jpg', 'Dislike/Dislike_ (245).jpg', 'Dislike/Dislike_ (257).jpg', 'Dislike/Dislike_ (262).jpg', 'Dislike/Dislike_ (266).jpg', 'Dislike/Dislike_ (269).jpg', 'Dislike/Dislike_ (27).jpg', 'Dislike/Dislike_ (278).jpg', 'Dislike/Dislike_ (279).jpg', 'Dislike/Dislike_ (282).jpg', 'Dislike/Dislike_ (290).jpg', 'Dislike/Dislike_ (298).jpg', 'Dislike/Dislike_ (305).jpg', 'Dislike/Dislike_ (310).jpg', 'Dislike/Dislike_ (315).jpg', 'Dislike/Dislike_ (317).jpg', 'Dislike/Dislike_ (319).jpg', 'Dislike/Dislike_ (322).jpg', 'Dislike/Dislike_ (327).jpg', 'Dislike/Dislike_ (33).jpg', 'Dislike/Dislike_ (331).jpg', 'Dislike/Dislike_ (345).jpg', 'Dislike/Dislike_ (373).jpg', 'Dislike/Dislike_ (375).jpg', 'Dislike/Dislike_ (390).jpg', 'Dislike/Dislike_ (393).jpg', 'Dislike/Dislike_ (42).jpg', 'Dislike/Dislike_ (44).jpg', 'Dislike/Dislike_ (47).jpg', 'Dislike/Dislike_ (59).jpg', 'Dislike/Dislike_ (62).jpg', 'Dislike/Dislike_ (63).jpg', 'Dislike/Dislike_ (74).jpg', 'Like/Like_ (1).jpg', 'Like/Like_ (110).jpg', 'Like/Like_ (112).jpg', 'Like/Like_ (124).jpg', 'Like/Like_ (128).jpg', 'Like/Like_ (132).jpg', 'Like/Like_ (151).jpg', 'Like/Like_ (158).jpg', 'Like/Like_ (168).jpg', 'Like/Like_ (17).jpg', 'Like/Like_ (184).jpg', 'Like/Like_ (188).jpg', 'Like/Like_ (196).jpg', 'Like/Like_ (20).jpg', 'Like/Like_ (205).jpg', 'Like/Like_ (207).jpg', 'Like/Like_ (215).jpg', 'Like/Like_ (227).jpg', 'Like/Like_ (240).jpg', 'Like/Like_ (247).jpg', 'Like/Like_ (249).jpg', 'Like/Like_ (25).jpg', 'Like/Like_ (290).jpg', 'Like/Like_ (294).jpg', 'Like/Like_ (296).jpg', 'Like/Like_ (298).jpg', 'Like/Like_ (309).jpg', 'Like/Like_ (311).jpg', 'Like/Like_ (313).jpg', 'Like/Like_ (329).jpg', 'Like/Like_ (330).jpg', 'Like/Like_ (332).jpg', 'Like/Like_ (338).jpg', 'Like/Like_ (344).jpg', 'Like/Like_ (351).jpg', 'Like/Like_ (355).jpg', 'Like/Like_ (362).jpg', 'Like/Like_ (368).jpg', 'Like/Like_ (378).jpg', 'Like/Like_ (392).jpg', 'Like/Like_ (40).jpg', 'Like/Like_ (46).jpg', 'Like/Like_ (53).jpg', 'Like/Like_ (55).jpg', 'Like/Like_ (63).jpg', 'Like/Like_ (73).jpg', 'Like/Like_ (89).jpg', 'Like/Like_ (94).jpg', 'Like/Like_ (96).jpg', 'Like/Like_ (99).jpg']\n"
          ],
          "name": "stdout"
        }
      ]
    },
    {
      "cell_type": "code",
      "metadata": {
        "id": "sdzF0k8bKCoy",
        "colab_type": "code",
        "colab": {}
      },
      "source": [
        ""
      ],
      "execution_count": 0,
      "outputs": []
    }
  ]
}